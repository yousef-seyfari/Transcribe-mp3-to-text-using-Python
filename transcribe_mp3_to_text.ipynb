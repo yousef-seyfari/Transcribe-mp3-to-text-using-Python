{
 "cells": [
  {
   "cell_type": "markdown",
   "id": "63599888",
   "metadata": {},
   "source": [
    "# Transcription of an mp3 file into text (Speech Recognition)"
   ]
  },
  {
   "cell_type": "markdown",
   "id": "9f00f9ad",
   "metadata": {},
   "source": [
    "In this tutorial I want to explain how to use Python to transcribe an mp3 file named p1.mp3 and extract text, step by step.\n",
    "The mp3 file is store in input_dir.\n",
    "\n",
    "The used packages and tools are:\n",
    "1. tools:\n",
    "\n",
    "    -ffmpeg: to convert mp3 to wave file\n",
    "    \n",
    "    -FLAC command line tools: to read the wave file using SpeechRecognition package\n",
    "2. packages:\n",
    "\n",
    "    -librosa: get the length of wave file\n",
    "    \n",
    "    -pydub: manipulate wave audio files, i.e., split a large wave file into multiple small wave files\n",
    "    \n",
    "    -speech_recognition: to recognize the speech using the Google Web Speech API recognizer."
   ]
  },
  {
   "cell_type": "markdown",
   "id": "179e3b21",
   "metadata": {},
   "source": [
    "#### 1. Convert mp3 file to wave file format using ffmpeg\n",
    "In this step you need to assign three folders input_dir, output_dir and path_to_ffmpeg_exe.\n",
    "The input_dir is the folder containing mp3 audio files.\n",
    "The output_dir is the folder which will store the converted wave files using ffmpeg.\n",
    "The path_to_ffmpeg_exe is the path of ffmpeg.exe which is in bin folder of ffmpeg.\n",
    "You need to have ffmpeg in your system. You can download latest version of ffmpeg-master-latest-win64-gpl.zip from https://github.com/BtbN/FFmpeg-Builds/releases, then extract it to some folder and copy the address of ffmpeg.exe which is in bin folder to the path_to_ffmpeg_exe variable."
   ]
  },
  {
   "cell_type": "code",
   "execution_count": null,
   "id": "34e5ac13",
   "metadata": {},
   "outputs": [],
   "source": [
    "import os\n",
    "import subprocess\n",
    "\n",
    "\n",
    "input_dir = 'audio-examples/f/'\n",
    "output_dir = 'audio-examples/f/'\n",
    "parts_dir = \"audio-examples/f/parts\"\n",
    "path_to_ffmpeg_exe = r'C:\\\\ffmpeg2023\\\\ffmpeg-master-latest-win64-gpl\\\\bin\\\\ffmpeg.exe'\n",
    "\n",
    "files_list = []\n",
    "\n",
    "for path in os.listdir(input_dir):\n",
    "    if os.path.isfile(os.path.join(input_dir, path)):\n",
    "        files_list.append(path)\n",
    "\n",
    "for file_nm in files_list:\n",
    "    print(file_nm)\n",
    "    subprocess.call([path_to_ffmpeg_exe, '-i', os.path.join(input_dir, file_nm), os.path.join(output_dir, str(file_nm.split(\".\")[0] + \".wav\"))])"
   ]
  },
  {
   "cell_type": "markdown",
   "id": "fcaba0ff",
   "metadata": {},
   "source": [
    "#### 2. Get the length of wav file you want to transcribe in milliseconds"
   ]
  },
  {
   "cell_type": "code",
   "execution_count": null,
   "id": "9190c996",
   "metadata": {
    "scrolled": true
   },
   "outputs": [],
   "source": [
    "import librosa\n",
    "l = librosa.get_duration(filename=\"audio-examples/f/p1.wav\") # get length in seconds\n",
    "lms = int(l*1000) # get length in milliseconds"
   ]
  },
  {
   "cell_type": "markdown",
   "id": "3c421b9b",
   "metadata": {},
   "source": [
    "#### 3. Split single wave file to multiple small wave files\n",
    "Since this transcription is based on the request from the Google Web Speech API, when size of audio wave file exceeds some limitations (I think it is around 10MB), the request fails. When converting mp3 file to wave, size of wave file increases dramatically, i.e., if size of mp3 is around 14MB, the size of output wave file would be 150MB. Hence, in this step we split a single wave file to multiple small wave files and store them in subfolder called parts."
   ]
  },
  {
   "cell_type": "code",
   "execution_count": null,
   "id": "d86b8396",
   "metadata": {},
   "outputs": [],
   "source": [
    "from pydub import AudioSegment\n",
    "step = 60*1000 # 60 seconds as milliseconds\n",
    "\n",
    "audio = AudioSegment.from_wav(\"audio-examples/f/p1.wav\")\n",
    "audio_parts=[]\n",
    "\n",
    "for i in range(0, lms, step):\n",
    "    t1 = i\n",
    "    t2 = (i+step)\n",
    "    audio_parts.append(audio[t1:t1+step])    \n",
    "\n",
    "k=1\n",
    "for audio_part in audio_parts:\n",
    "    audio_part.export('audio-examples/f/parts/p1_part'+str(k).zfill(5)+'.wav', format=\"wav\") #Exports to a wav file\n",
    "    k=k+1"
   ]
  },
  {
   "cell_type": "markdown",
   "id": "9b536a6e",
   "metadata": {},
   "source": [
    "#### 4. Get the list of small wave files\n",
    "Get total list of waves to be transcribed and store it in the audiofiles list: "
   ]
  },
  {
   "cell_type": "code",
   "execution_count": null,
   "id": "3da4292c",
   "metadata": {},
   "outputs": [],
   "source": [
    "from os import listdir\n",
    "from os.path import isfile, join\n",
    "mypath = 'audio-examples/f/parts/'\n",
    "audiofiles = [f for f in listdir(mypath) if isfile(join(mypath, f))]"
   ]
  },
  {
   "cell_type": "markdown",
   "id": "82f5d048",
   "metadata": {},
   "source": [
    "#### 5. Transcribe each small wave file\n",
    "Use SpeechRecognition package and transcribe each wave file. In this code the recognize_google() method is used as the Recognizer which is Google Web Speech API. So, you need to be online.\n",
    "\n",
    "Note: in this section for reading wave files, the package uses FLAC command line tools. So, you need to have the FLAC command line tools in your Windows32 folder. For this, you can do as following (the steps is from https://stackoverflow.com/a/71228053):\n",
    "1. Go to flac download page\n",
    "2. Choose OS (Windows, in your case)\n",
    "3. Download win.zip version (latest), probably at the end of the page.\n",
    "4. Move to the download directory and extract it (You can simple use Extract Here)\n",
    "5. Move to win64 or win32 according to your system architecture\n",
    "6. Copy flac.exe and paste it inside C:\\Windows\\System32 this directory.\n",
    "7. Try running your code. If it executes successfully, No need to do last step. 8. If not, perform 7th step too.\n",
    "        Remove .exe .i.e. Rename it to flac\n",
    "        \n",
    "In my case, I downloaded flac-1.4.2-win.zip (https://ftp.osuosl.org/pub/xiph/releases/flac/) and copied the contents of Win64 folder, including flac.exe, libFLAC.dll, libFLAC++.dll and metaflac.exe files into my System32 folder and then renamed flac.exe into flac (without extension)."
   ]
  },
  {
   "cell_type": "code",
   "execution_count": null,
   "id": "a47d6f99",
   "metadata": {},
   "outputs": [],
   "source": [
    "import speech_recognition as sr\n",
    "from os import path\n",
    "from pydub import AudioSegment\n",
    "\n",
    "\n",
    "\n",
    "for i in range(0, len(audiofiles)+1):\n",
    "    # transcribe audio file                                                         \n",
    "    AUDIO_FILE = \"audio-examples/f/parts/\"+audiofiles[i]\n",
    "\n",
    "    # use the audio file as the audio source                                        \n",
    "    r = sr.Recognizer()\n",
    "    with sr.AudioFile(AUDIO_FILE) as source:\n",
    "        audio = r.record(source)  # read the entire audio file                  \n",
    "        print(\"part \"+str(i)+\": \" + r.recognize_google(audio)+\"\\n\")"
   ]
  },
  {
   "cell_type": "markdown",
   "id": "7b85a888",
   "metadata": {},
   "source": [
    "#### 6. Just finished.\n",
    "After running above section, you will have the transcribe of your audio file. It takes some time to finish."
   ]
  }
 ],
 "metadata": {
  "kernelspec": {
   "display_name": "Python 3 (ipykernel)",
   "language": "python",
   "name": "python3"
  },
  "language_info": {
   "codemirror_mode": {
    "name": "ipython",
    "version": 3
   },
   "file_extension": ".py",
   "mimetype": "text/x-python",
   "name": "python",
   "nbconvert_exporter": "python",
   "pygments_lexer": "ipython3",
   "version": "3.9.7"
  }
 },
 "nbformat": 4,
 "nbformat_minor": 5
}
